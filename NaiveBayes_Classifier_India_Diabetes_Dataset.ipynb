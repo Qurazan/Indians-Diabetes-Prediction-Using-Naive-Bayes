{
 "cells": [
  {
   "cell_type": "markdown",
   "metadata": {},
   "source": [
    "# Note: Here, we are running multiple models in this notebook file\n",
    "# Always execute the model in sequential manner (or it may fail)\n",
    "# Also Multiple training/test set is tabulated"
   ]
  },
  {
   "cell_type": "markdown",
   "metadata": {},
   "source": [
    "# Importing Libraries"
   ]
  },
  {
   "cell_type": "code",
   "execution_count": 1,
   "metadata": {},
   "outputs": [],
   "source": [
    "import pandas as pd\n",
    "import matplotlib.pyplot as plt\n",
    "import numpy as np\n",
    "import seaborn as sns\n",
    "import warnings\n",
    "warnings.filterwarnings('ignore')"
   ]
  },
  {
   "cell_type": "markdown",
   "metadata": {},
   "source": [
    "# Working Directory"
   ]
  },
  {
   "cell_type": "code",
   "execution_count": 2,
   "metadata": {},
   "outputs": [],
   "source": [
    "from os import chdir, getcwd\n",
    "wd=getcwd()\n",
    "# To Change the Working Directory\n",
    "#chdir(r'C:/Users/shubham/Desktop')\n",
    "#wd"
   ]
  },
  {
   "cell_type": "markdown",
   "metadata": {},
   "source": [
    "# Reading Dataset with indexed Columns"
   ]
  },
  {
   "cell_type": "code",
   "execution_count": 3,
   "metadata": {},
   "outputs": [
    {
     "data": {
      "text/html": [
       "<div>\n",
       "<style scoped>\n",
       "    .dataframe tbody tr th:only-of-type {\n",
       "        vertical-align: middle;\n",
       "    }\n",
       "\n",
       "    .dataframe tbody tr th {\n",
       "        vertical-align: top;\n",
       "    }\n",
       "\n",
       "    .dataframe thead th {\n",
       "        text-align: right;\n",
       "    }\n",
       "</style>\n",
       "<table border=\"1\" class=\"dataframe\">\n",
       "  <thead>\n",
       "    <tr style=\"text-align: right;\">\n",
       "      <th></th>\n",
       "      <th>Pregnancies</th>\n",
       "      <th>Glucose</th>\n",
       "      <th>BloodPressure</th>\n",
       "      <th>SkinThickness</th>\n",
       "      <th>Insulin</th>\n",
       "      <th>BMI</th>\n",
       "      <th>DiabetesPedigreeFunction</th>\n",
       "      <th>Age</th>\n",
       "      <th>Outcome</th>\n",
       "    </tr>\n",
       "  </thead>\n",
       "  <tbody>\n",
       "    <tr>\n",
       "      <th>0</th>\n",
       "      <td>6</td>\n",
       "      <td>148</td>\n",
       "      <td>72</td>\n",
       "      <td>35</td>\n",
       "      <td>0</td>\n",
       "      <td>33.6</td>\n",
       "      <td>0.627</td>\n",
       "      <td>50</td>\n",
       "      <td>1</td>\n",
       "    </tr>\n",
       "    <tr>\n",
       "      <th>1</th>\n",
       "      <td>1</td>\n",
       "      <td>85</td>\n",
       "      <td>66</td>\n",
       "      <td>29</td>\n",
       "      <td>0</td>\n",
       "      <td>26.6</td>\n",
       "      <td>0.351</td>\n",
       "      <td>31</td>\n",
       "      <td>0</td>\n",
       "    </tr>\n",
       "    <tr>\n",
       "      <th>2</th>\n",
       "      <td>8</td>\n",
       "      <td>183</td>\n",
       "      <td>64</td>\n",
       "      <td>0</td>\n",
       "      <td>0</td>\n",
       "      <td>23.3</td>\n",
       "      <td>0.672</td>\n",
       "      <td>32</td>\n",
       "      <td>1</td>\n",
       "    </tr>\n",
       "    <tr>\n",
       "      <th>3</th>\n",
       "      <td>1</td>\n",
       "      <td>89</td>\n",
       "      <td>66</td>\n",
       "      <td>23</td>\n",
       "      <td>94</td>\n",
       "      <td>28.1</td>\n",
       "      <td>0.167</td>\n",
       "      <td>21</td>\n",
       "      <td>0</td>\n",
       "    </tr>\n",
       "    <tr>\n",
       "      <th>4</th>\n",
       "      <td>0</td>\n",
       "      <td>137</td>\n",
       "      <td>40</td>\n",
       "      <td>35</td>\n",
       "      <td>168</td>\n",
       "      <td>43.1</td>\n",
       "      <td>2.288</td>\n",
       "      <td>33</td>\n",
       "      <td>1</td>\n",
       "    </tr>\n",
       "  </tbody>\n",
       "</table>\n",
       "</div>"
      ],
      "text/plain": [
       "   Pregnancies  Glucose  BloodPressure  SkinThickness  Insulin   BMI  \\\n",
       "0            6      148             72             35        0  33.6   \n",
       "1            1       85             66             29        0  26.6   \n",
       "2            8      183             64              0        0  23.3   \n",
       "3            1       89             66             23       94  28.1   \n",
       "4            0      137             40             35      168  43.1   \n",
       "\n",
       "   DiabetesPedigreeFunction  Age  Outcome  \n",
       "0                     0.627   50        1  \n",
       "1                     0.351   31        0  \n",
       "2                     0.672   32        1  \n",
       "3                     0.167   21        0  \n",
       "4                     2.288   33        1  "
      ]
     },
     "execution_count": 3,
     "metadata": {},
     "output_type": "execute_result"
    }
   ],
   "source": [
    "# Load the dataset\n",
    "ColNames = [\"Pregnancies\",\"Glucose\",\"BloodPressure\",\"SkinThickness\",\"Insulin\",\"BMI\",\"DiabetesPedigreeFunction\",\"Age\",\"Outcome\"]\n",
    "\n",
    "df = pd.read_csv('Diabetes.csv', header=None, names=ColNames)\n",
    "\n",
    "#Print the first 5 rows of the dataframe.\n",
    "df.head()"
   ]
  },
  {
   "cell_type": "markdown",
   "metadata": {},
   "source": [
    "# Dataset Inference"
   ]
  },
  {
   "cell_type": "code",
   "execution_count": 4,
   "metadata": {},
   "outputs": [
    {
     "name": "stdout",
     "output_type": "stream",
     "text": [
      "<class 'pandas.core.frame.DataFrame'>\n",
      "RangeIndex: 768 entries, 0 to 767\n",
      "Data columns (total 9 columns):\n",
      "Pregnancies                 768 non-null int64\n",
      "Glucose                     768 non-null int64\n",
      "BloodPressure               768 non-null int64\n",
      "SkinThickness               768 non-null int64\n",
      "Insulin                     768 non-null int64\n",
      "BMI                         768 non-null float64\n",
      "DiabetesPedigreeFunction    768 non-null float64\n",
      "Age                         768 non-null int64\n",
      "Outcome                     768 non-null int64\n",
      "dtypes: float64(2), int64(7)\n",
      "memory usage: 54.1 KB\n"
     ]
    }
   ],
   "source": [
    "df.info()"
   ]
  },
  {
   "cell_type": "markdown",
   "metadata": {},
   "source": [
    "# Statistical inference before Normalization"
   ]
  },
  {
   "cell_type": "code",
   "execution_count": 5,
   "metadata": {},
   "outputs": [
    {
     "data": {
      "text/html": [
       "<div>\n",
       "<style scoped>\n",
       "    .dataframe tbody tr th:only-of-type {\n",
       "        vertical-align: middle;\n",
       "    }\n",
       "\n",
       "    .dataframe tbody tr th {\n",
       "        vertical-align: top;\n",
       "    }\n",
       "\n",
       "    .dataframe thead th {\n",
       "        text-align: right;\n",
       "    }\n",
       "</style>\n",
       "<table border=\"1\" class=\"dataframe\">\n",
       "  <thead>\n",
       "    <tr style=\"text-align: right;\">\n",
       "      <th></th>\n",
       "      <th>Pregnancies</th>\n",
       "      <th>Glucose</th>\n",
       "      <th>BloodPressure</th>\n",
       "      <th>SkinThickness</th>\n",
       "      <th>Insulin</th>\n",
       "      <th>BMI</th>\n",
       "      <th>DiabetesPedigreeFunction</th>\n",
       "      <th>Age</th>\n",
       "      <th>Outcome</th>\n",
       "    </tr>\n",
       "  </thead>\n",
       "  <tbody>\n",
       "    <tr>\n",
       "      <th>count</th>\n",
       "      <td>768.000000</td>\n",
       "      <td>768.000000</td>\n",
       "      <td>768.000000</td>\n",
       "      <td>768.000000</td>\n",
       "      <td>768.000000</td>\n",
       "      <td>768.000000</td>\n",
       "      <td>768.000000</td>\n",
       "      <td>768.000000</td>\n",
       "      <td>768.000000</td>\n",
       "    </tr>\n",
       "    <tr>\n",
       "      <th>mean</th>\n",
       "      <td>3.845052</td>\n",
       "      <td>120.894531</td>\n",
       "      <td>69.105469</td>\n",
       "      <td>20.536458</td>\n",
       "      <td>79.799479</td>\n",
       "      <td>31.992578</td>\n",
       "      <td>0.471876</td>\n",
       "      <td>33.240885</td>\n",
       "      <td>0.348958</td>\n",
       "    </tr>\n",
       "    <tr>\n",
       "      <th>std</th>\n",
       "      <td>3.369578</td>\n",
       "      <td>31.972618</td>\n",
       "      <td>19.355807</td>\n",
       "      <td>15.952218</td>\n",
       "      <td>115.244002</td>\n",
       "      <td>7.884160</td>\n",
       "      <td>0.331329</td>\n",
       "      <td>11.760232</td>\n",
       "      <td>0.476951</td>\n",
       "    </tr>\n",
       "    <tr>\n",
       "      <th>min</th>\n",
       "      <td>0.000000</td>\n",
       "      <td>0.000000</td>\n",
       "      <td>0.000000</td>\n",
       "      <td>0.000000</td>\n",
       "      <td>0.000000</td>\n",
       "      <td>0.000000</td>\n",
       "      <td>0.078000</td>\n",
       "      <td>21.000000</td>\n",
       "      <td>0.000000</td>\n",
       "    </tr>\n",
       "    <tr>\n",
       "      <th>25%</th>\n",
       "      <td>1.000000</td>\n",
       "      <td>99.000000</td>\n",
       "      <td>62.000000</td>\n",
       "      <td>0.000000</td>\n",
       "      <td>0.000000</td>\n",
       "      <td>27.300000</td>\n",
       "      <td>0.243750</td>\n",
       "      <td>24.000000</td>\n",
       "      <td>0.000000</td>\n",
       "    </tr>\n",
       "    <tr>\n",
       "      <th>50%</th>\n",
       "      <td>3.000000</td>\n",
       "      <td>117.000000</td>\n",
       "      <td>72.000000</td>\n",
       "      <td>23.000000</td>\n",
       "      <td>30.500000</td>\n",
       "      <td>32.000000</td>\n",
       "      <td>0.372500</td>\n",
       "      <td>29.000000</td>\n",
       "      <td>0.000000</td>\n",
       "    </tr>\n",
       "    <tr>\n",
       "      <th>75%</th>\n",
       "      <td>6.000000</td>\n",
       "      <td>140.250000</td>\n",
       "      <td>80.000000</td>\n",
       "      <td>32.000000</td>\n",
       "      <td>127.250000</td>\n",
       "      <td>36.600000</td>\n",
       "      <td>0.626250</td>\n",
       "      <td>41.000000</td>\n",
       "      <td>1.000000</td>\n",
       "    </tr>\n",
       "    <tr>\n",
       "      <th>max</th>\n",
       "      <td>17.000000</td>\n",
       "      <td>199.000000</td>\n",
       "      <td>122.000000</td>\n",
       "      <td>99.000000</td>\n",
       "      <td>846.000000</td>\n",
       "      <td>67.100000</td>\n",
       "      <td>2.420000</td>\n",
       "      <td>81.000000</td>\n",
       "      <td>1.000000</td>\n",
       "    </tr>\n",
       "  </tbody>\n",
       "</table>\n",
       "</div>"
      ],
      "text/plain": [
       "       Pregnancies     Glucose  BloodPressure  SkinThickness     Insulin  \\\n",
       "count   768.000000  768.000000     768.000000     768.000000  768.000000   \n",
       "mean      3.845052  120.894531      69.105469      20.536458   79.799479   \n",
       "std       3.369578   31.972618      19.355807      15.952218  115.244002   \n",
       "min       0.000000    0.000000       0.000000       0.000000    0.000000   \n",
       "25%       1.000000   99.000000      62.000000       0.000000    0.000000   \n",
       "50%       3.000000  117.000000      72.000000      23.000000   30.500000   \n",
       "75%       6.000000  140.250000      80.000000      32.000000  127.250000   \n",
       "max      17.000000  199.000000     122.000000      99.000000  846.000000   \n",
       "\n",
       "              BMI  DiabetesPedigreeFunction         Age     Outcome  \n",
       "count  768.000000                768.000000  768.000000  768.000000  \n",
       "mean    31.992578                  0.471876   33.240885    0.348958  \n",
       "std      7.884160                  0.331329   11.760232    0.476951  \n",
       "min      0.000000                  0.078000   21.000000    0.000000  \n",
       "25%     27.300000                  0.243750   24.000000    0.000000  \n",
       "50%     32.000000                  0.372500   29.000000    0.000000  \n",
       "75%     36.600000                  0.626250   41.000000    1.000000  \n",
       "max     67.100000                  2.420000   81.000000    1.000000  "
      ]
     },
     "execution_count": 5,
     "metadata": {},
     "output_type": "execute_result"
    }
   ],
   "source": [
    "df.describe()"
   ]
  },
  {
   "cell_type": "markdown",
   "metadata": {},
   "source": [
    "# Checking Null & Duplicates"
   ]
  },
  {
   "cell_type": "code",
   "execution_count": 6,
   "metadata": {},
   "outputs": [
    {
     "data": {
      "text/plain": [
       "Pregnancies                 0\n",
       "Glucose                     0\n",
       "BloodPressure               0\n",
       "SkinThickness               0\n",
       "Insulin                     0\n",
       "BMI                         0\n",
       "DiabetesPedigreeFunction    0\n",
       "Age                         0\n",
       "Outcome                     0\n",
       "dtype: int64"
      ]
     },
     "execution_count": 6,
     "metadata": {},
     "output_type": "execute_result"
    }
   ],
   "source": [
    "df.isnull().sum(axis=0)"
   ]
  },
  {
   "cell_type": "code",
   "execution_count": 7,
   "metadata": {},
   "outputs": [
    {
     "data": {
      "text/plain": [
       "0"
      ]
     },
     "execution_count": 7,
     "metadata": {},
     "output_type": "execute_result"
    }
   ],
   "source": [
    "len(df[df.duplicated()])"
   ]
  },
  {
   "cell_type": "markdown",
   "metadata": {},
   "source": [
    "# Histogram Plot on all columns"
   ]
  },
  {
   "cell_type": "code",
   "execution_count": 8,
   "metadata": {
    "scrolled": true
   },
   "outputs": [
    {
     "data": {
      "image/png": "[encoded data removed]",
      "text/plain": [
       "<matplotlib.figure.Figure at 0x1e26c0c1828>"
      ]
     },
     "metadata": {},
     "output_type": "display_data"
    }
   ],
   "source": [
    "plt.figure(figsize=(20,20))\n",
    "for i in range(0,8):\n",
    "    plt.subplot(3,3,i+1)\n",
    "    plt.hist(df[ColNames[i]],200)\n",
    "    plt.title(ColNames[i])"
   ]
  },
  {
   "cell_type": "markdown",
   "metadata": {},
   "source": [
    "# Box Plot for possible Outlier"
   ]
  },
  {
   "cell_type": "code",
   "execution_count": 9,
   "metadata": {
    "scrolled": true
   },
   "outputs": [
    {
     "data": {
      "image/png": "[encoded data removed]",
      "text/plain": [
       "<matplotlib.figure.Figure at 0x1e26dc11c50>"
      ]
     },
     "metadata": {},
     "output_type": "display_data"
    }
   ],
   "source": [
    "plt.figure(figsize=(20,16))\n",
    "for i in range(0,8):\n",
    "    plt.subplot(3,3,i+1)\n",
    "    plt.boxplot(df[ColNames[i]])\n",
    "    plt.title(ColNames[i])"
   ]
  },
  {
   "cell_type": "markdown",
   "metadata": {},
   "source": [
    "# Removing Skewness(LogTransform) on DiabetesPedigreeFunction, Insulin, Skinthickness Column"
   ]
  },
  {
   "cell_type": "code",
   "execution_count": 10,
   "metadata": {},
   "outputs": [
    {
     "data": {
      "text/plain": [
       "(array([ 14.,  49.,  89., 166., 126., 126., 115.,  55.,  21.,   7.]),\n",
       " array([-2.55104645, -2.20756505, -1.86408365, -1.52060225, -1.17712086,\n",
       "        -0.83363946, -0.49015806, -0.14667666,  0.19680474,  0.54028614,\n",
       "         0.88376754]),\n",
       " <a list of 10 Patch objects>)"
      ]
     },
     "execution_count": 10,
     "metadata": {},
     "output_type": "execute_result"
    },
    {
     "data": {
      "image/png": "[encoded data removed]",
      "text/plain": [
       "<matplotlib.figure.Figure at 0x1e26db428d0>"
      ]
     },
     "metadata": {},
     "output_type": "display_data"
    }
   ],
   "source": [
    "from numpy import exp\n",
    "from scipy.stats import boxcox\n",
    "#Log Transform to remove Skewness\n",
    "df['DiabetesPedigreeFunction'] = boxcox(df['DiabetesPedigreeFunction'],0)\n",
    "plt.hist(df['DiabetesPedigreeFunction'])\n"
   ]
  },
  {
   "cell_type": "code",
   "execution_count": 11,
   "metadata": {},
   "outputs": [
    {
     "data": {
      "text/plain": [
       "(array([  5.,   5.,  19.,  58., 453.,  91.,  79.,  35.,  18.,   5.]),\n",
       " array([2.63905733, 3.04920353, 3.45934974, 3.86949594, 4.27964214,\n",
       "        4.68978834, 5.09993455, 5.51008075, 5.92022695, 6.33037316,\n",
       "        6.74051936]),\n",
       " <a list of 10 Patch objects>)"
      ]
     },
     "execution_count": 11,
     "metadata": {},
     "output_type": "execute_result"
    },
    {
     "data": {
      "image/png": "[encoded data removed]",
      "text/plain": [
       "<matplotlib.figure.Figure at 0x1e26e381f28>"
      ]
     },
     "metadata": {},
     "output_type": "display_data"
    }
   ],
   "source": [
    "df['Insulin'] = np.where((df['Insulin'] <= 0), df['Insulin'].mean(), df['Insulin'])\n",
    "df['Insulin'] = boxcox(df['Insulin'],0)\n",
    "plt.hist(df['Insulin'])"
   ]
  },
  {
   "cell_type": "code",
   "execution_count": 12,
   "metadata": {},
   "outputs": [
    {
     "data": {
      "text/plain": [
       "(array([  4.,  11.,  38.,  71., 319., 165., 123.,  34.,   2.,   1.]),\n",
       " array([1.94591015, 2.21083112, 2.47575209, 2.74067306, 3.00559403,\n",
       "        3.270515  , 3.53543597, 3.80035694, 4.06527791, 4.33019888,\n",
       "        4.59511985]),\n",
       " <a list of 10 Patch objects>)"
      ]
     },
     "execution_count": 12,
     "metadata": {},
     "output_type": "execute_result"
    },
    {
     "data": {
      "image/png": "[encoded data removed]",
      "text/plain": [
       "<matplotlib.figure.Figure at 0x1e26d21fd68>"
      ]
     },
     "metadata": {},
     "output_type": "display_data"
    }
   ],
   "source": [
    "df['SkinThickness'] = np.where((df['SkinThickness'] <= 0), df['SkinThickness'].mean(), df['SkinThickness'])\n",
    "df['SkinThickness'] = boxcox(df['SkinThickness'],0)\n",
    "plt.hist(df['SkinThickness'])"
   ]
  },
  {
   "cell_type": "code",
   "execution_count": 13,
   "metadata": {},
   "outputs": [],
   "source": [
    "# BOXCOX Arguments\n",
    "# lambda = -1. is a reciprocal transform.\n",
    "# lambda = -0.5 is a reciprocal square root transform.\n",
    "# lambda = 0.0 is a log transform.\n",
    "# lambda = 0.5 is a square root transform.\n",
    "# lambda = 1.0 is no transform."
   ]
  },
  {
   "cell_type": "markdown",
   "metadata": {},
   "source": [
    "# Using Min-Max Normalization on all columns"
   ]
  },
  {
   "cell_type": "code",
   "execution_count": 14,
   "metadata": {},
   "outputs": [],
   "source": [
    "from sklearn import preprocessing\n",
    "\n",
    "min_max_scaler = preprocessing.MinMaxScaler()\n",
    "x_scaled = min_max_scaler.fit_transform(df)\n",
    "df = pd.DataFrame(x_scaled)\n",
    "df.columns = ColNames"
   ]
  },
  {
   "cell_type": "markdown",
   "metadata": {},
   "source": [
    "# Norm Scale in the range of [0,1]"
   ]
  },
  {
   "cell_type": "code",
   "execution_count": 15,
   "metadata": {},
   "outputs": [
    {
     "data": {
      "text/html": [
       "<div>\n",
       "<style scoped>\n",
       "    .dataframe tbody tr th:only-of-type {\n",
       "        vertical-align: middle;\n",
       "    }\n",
       "\n",
       "    .dataframe tbody tr th {\n",
       "        vertical-align: top;\n",
       "    }\n",
       "\n",
       "    .dataframe thead th {\n",
       "        text-align: right;\n",
       "    }\n",
       "</style>\n",
       "<table border=\"1\" class=\"dataframe\">\n",
       "  <thead>\n",
       "    <tr style=\"text-align: right;\">\n",
       "      <th></th>\n",
       "      <th>Pregnancies</th>\n",
       "      <th>Glucose</th>\n",
       "      <th>BloodPressure</th>\n",
       "      <th>SkinThickness</th>\n",
       "      <th>Insulin</th>\n",
       "      <th>BMI</th>\n",
       "      <th>DiabetesPedigreeFunction</th>\n",
       "      <th>Age</th>\n",
       "      <th>Outcome</th>\n",
       "    </tr>\n",
       "  </thead>\n",
       "  <tbody>\n",
       "    <tr>\n",
       "      <th>count</th>\n",
       "      <td>768.000000</td>\n",
       "      <td>768.000000</td>\n",
       "      <td>768.000000</td>\n",
       "      <td>768.000000</td>\n",
       "      <td>768.000000</td>\n",
       "      <td>768.000000</td>\n",
       "      <td>768.000000</td>\n",
       "      <td>768.000000</td>\n",
       "      <td>768.000000</td>\n",
       "    </tr>\n",
       "    <tr>\n",
       "      <th>mean</th>\n",
       "      <td>0.226180</td>\n",
       "      <td>0.607510</td>\n",
       "      <td>0.566438</td>\n",
       "      <td>0.480876</td>\n",
       "      <td>0.477952</td>\n",
       "      <td>0.476790</td>\n",
       "      <td>0.463229</td>\n",
       "      <td>0.204015</td>\n",
       "      <td>0.348958</td>\n",
       "    </tr>\n",
       "    <tr>\n",
       "      <th>std</th>\n",
       "      <td>0.198210</td>\n",
       "      <td>0.160666</td>\n",
       "      <td>0.158654</td>\n",
       "      <td>0.132389</td>\n",
       "      <td>0.132698</td>\n",
       "      <td>0.117499</td>\n",
       "      <td>0.187586</td>\n",
       "      <td>0.196004</td>\n",
       "      <td>0.476951</td>\n",
       "    </tr>\n",
       "    <tr>\n",
       "      <th>min</th>\n",
       "      <td>0.000000</td>\n",
       "      <td>0.000000</td>\n",
       "      <td>0.000000</td>\n",
       "      <td>0.000000</td>\n",
       "      <td>0.000000</td>\n",
       "      <td>0.000000</td>\n",
       "      <td>0.000000</td>\n",
       "      <td>0.000000</td>\n",
       "      <td>0.000000</td>\n",
       "    </tr>\n",
       "    <tr>\n",
       "      <th>25%</th>\n",
       "      <td>0.058824</td>\n",
       "      <td>0.497487</td>\n",
       "      <td>0.508197</td>\n",
       "      <td>0.406269</td>\n",
       "      <td>0.424351</td>\n",
       "      <td>0.406855</td>\n",
       "      <td>0.331731</td>\n",
       "      <td>0.050000</td>\n",
       "      <td>0.000000</td>\n",
       "    </tr>\n",
       "    <tr>\n",
       "      <th>50%</th>\n",
       "      <td>0.176471</td>\n",
       "      <td>0.587940</td>\n",
       "      <td>0.590164</td>\n",
       "      <td>0.449034</td>\n",
       "      <td>0.424351</td>\n",
       "      <td>0.476900</td>\n",
       "      <td>0.455198</td>\n",
       "      <td>0.133333</td>\n",
       "      <td>0.000000</td>\n",
       "    </tr>\n",
       "    <tr>\n",
       "      <th>75%</th>\n",
       "      <td>0.352941</td>\n",
       "      <td>0.704774</td>\n",
       "      <td>0.655738</td>\n",
       "      <td>0.573690</td>\n",
       "      <td>0.538123</td>\n",
       "      <td>0.545455</td>\n",
       "      <td>0.606449</td>\n",
       "      <td>0.333333</td>\n",
       "      <td>1.000000</td>\n",
       "    </tr>\n",
       "    <tr>\n",
       "      <th>max</th>\n",
       "      <td>1.000000</td>\n",
       "      <td>1.000000</td>\n",
       "      <td>1.000000</td>\n",
       "      <td>1.000000</td>\n",
       "      <td>1.000000</td>\n",
       "      <td>1.000000</td>\n",
       "      <td>1.000000</td>\n",
       "      <td>1.000000</td>\n",
       "      <td>1.000000</td>\n",
       "    </tr>\n",
       "  </tbody>\n",
       "</table>\n",
       "</div>"
      ],
      "text/plain": [
       "       Pregnancies     Glucose  BloodPressure  SkinThickness     Insulin  \\\n",
       "count   768.000000  768.000000     768.000000     768.000000  768.000000   \n",
       "mean      0.226180    0.607510       0.566438       0.480876    0.477952   \n",
       "std       0.198210    0.160666       0.158654       0.132389    0.132698   \n",
       "min       0.000000    0.000000       0.000000       0.000000    0.000000   \n",
       "25%       0.058824    0.497487       0.508197       0.406269    0.424351   \n",
       "50%       0.176471    0.587940       0.590164       0.449034    0.424351   \n",
       "75%       0.352941    0.704774       0.655738       0.573690    0.538123   \n",
       "max       1.000000    1.000000       1.000000       1.000000    1.000000   \n",
       "\n",
       "              BMI  DiabetesPedigreeFunction         Age     Outcome  \n",
       "count  768.000000                768.000000  768.000000  768.000000  \n",
       "mean     0.476790                  0.463229    0.204015    0.348958  \n",
       "std      0.117499                  0.187586    0.196004    0.476951  \n",
       "min      0.000000                  0.000000    0.000000    0.000000  \n",
       "25%      0.406855                  0.331731    0.050000    0.000000  \n",
       "50%      0.476900                  0.455198    0.133333    0.000000  \n",
       "75%      0.545455                  0.606449    0.333333    1.000000  \n",
       "max      1.000000                  1.000000    1.000000    1.000000  "
      ]
     },
     "execution_count": 15,
     "metadata": {},
     "output_type": "execute_result"
    }
   ],
   "source": [
    "df.describe()"
   ]
  },
  {
   "cell_type": "markdown",
   "metadata": {},
   "source": [
    "# Outlier Detection using Z-Score [-3,+3] - Allowed range"
   ]
  },
  {
   "cell_type": "code",
   "execution_count": 16,
   "metadata": {},
   "outputs": [],
   "source": [
    "for index in range(df.shape[1]-1):\n",
    "    col = ColNames[index]\n",
    "    col_zscore = col + '_zscore'\n",
    "    df[col_zscore] = (df[col] - df[col].mean())/df[col].std(ddof=0)"
   ]
  },
  {
   "cell_type": "markdown",
   "metadata": {},
   "source": [
    "# Print the Z-Score Column (x-u)/sigma"
   ]
  },
  {
   "cell_type": "code",
   "execution_count": 17,
   "metadata": {},
   "outputs": [
    {
     "data": {
      "text/html": [
       "<div>\n",
       "<style scoped>\n",
       "    .dataframe tbody tr th:only-of-type {\n",
       "        vertical-align: middle;\n",
       "    }\n",
       "\n",
       "    .dataframe tbody tr th {\n",
       "        vertical-align: top;\n",
       "    }\n",
       "\n",
       "    .dataframe thead th {\n",
       "        text-align: right;\n",
       "    }\n",
       "</style>\n",
       "<table border=\"1\" class=\"dataframe\">\n",
       "  <thead>\n",
       "    <tr style=\"text-align: right;\">\n",
       "      <th></th>\n",
       "      <th>Pregnancies</th>\n",
       "      <th>Glucose</th>\n",
       "      <th>BloodPressure</th>\n",
       "      <th>SkinThickness</th>\n",
       "      <th>Insulin</th>\n",
       "      <th>BMI</th>\n",
       "      <th>DiabetesPedigreeFunction</th>\n",
       "      <th>Age</th>\n",
       "      <th>Outcome</th>\n",
       "      <th>Pregnancies_zscore</th>\n",
       "      <th>Glucose_zscore</th>\n",
       "      <th>BloodPressure_zscore</th>\n",
       "      <th>SkinThickness_zscore</th>\n",
       "      <th>Insulin_zscore</th>\n",
       "      <th>BMI_zscore</th>\n",
       "      <th>DiabetesPedigreeFunction_zscore</th>\n",
       "      <th>Age_zscore</th>\n",
       "    </tr>\n",
       "  </thead>\n",
       "  <tbody>\n",
       "    <tr>\n",
       "      <th>0</th>\n",
       "      <td>0.352941</td>\n",
       "      <td>0.743719</td>\n",
       "      <td>0.590164</td>\n",
       "      <td>0.607516</td>\n",
       "      <td>0.424351</td>\n",
       "      <td>0.500745</td>\n",
       "      <td>0.606798</td>\n",
       "      <td>0.483333</td>\n",
       "      <td>1.0</td>\n",
       "      <td>0.639947</td>\n",
       "      <td>0.848324</td>\n",
       "      <td>0.149641</td>\n",
       "      <td>0.957206</td>\n",
       "      <td>-0.404190</td>\n",
       "      <td>0.204013</td>\n",
       "      <td>0.765848</td>\n",
       "      <td>1.425995</td>\n",
       "    </tr>\n",
       "    <tr>\n",
       "      <th>1</th>\n",
       "      <td>0.058824</td>\n",
       "      <td>0.427136</td>\n",
       "      <td>0.540984</td>\n",
       "      <td>0.536532</td>\n",
       "      <td>0.424351</td>\n",
       "      <td>0.396423</td>\n",
       "      <td>0.437892</td>\n",
       "      <td>0.166667</td>\n",
       "      <td>0.0</td>\n",
       "      <td>-0.844885</td>\n",
       "      <td>-1.123396</td>\n",
       "      <td>-0.160546</td>\n",
       "      <td>0.420675</td>\n",
       "      <td>-0.404190</td>\n",
       "      <td>-0.684422</td>\n",
       "      <td>-0.135159</td>\n",
       "      <td>-0.190672</td>\n",
       "    </tr>\n",
       "    <tr>\n",
       "      <th>2</th>\n",
       "      <td>0.470588</td>\n",
       "      <td>0.919598</td>\n",
       "      <td>0.524590</td>\n",
       "      <td>0.406269</td>\n",
       "      <td>0.424351</td>\n",
       "      <td>0.347243</td>\n",
       "      <td>0.626977</td>\n",
       "      <td>0.183333</td>\n",
       "      <td>1.0</td>\n",
       "      <td>1.233880</td>\n",
       "      <td>1.943724</td>\n",
       "      <td>-0.263941</td>\n",
       "      <td>-0.563910</td>\n",
       "      <td>-0.404190</td>\n",
       "      <td>-1.103255</td>\n",
       "      <td>0.873492</td>\n",
       "      <td>-0.105584</td>\n",
       "    </tr>\n",
       "    <tr>\n",
       "      <th>3</th>\n",
       "      <td>0.058824</td>\n",
       "      <td>0.447236</td>\n",
       "      <td>0.540984</td>\n",
       "      <td>0.449034</td>\n",
       "      <td>0.464283</td>\n",
       "      <td>0.418778</td>\n",
       "      <td>0.221638</td>\n",
       "      <td>0.000000</td>\n",
       "      <td>0.0</td>\n",
       "      <td>-0.844885</td>\n",
       "      <td>-0.998208</td>\n",
       "      <td>-0.160546</td>\n",
       "      <td>-0.240676</td>\n",
       "      <td>-0.103074</td>\n",
       "      <td>-0.494043</td>\n",
       "      <td>-1.288739</td>\n",
       "      <td>-1.041549</td>\n",
       "    </tr>\n",
       "    <tr>\n",
       "      <th>4</th>\n",
       "      <td>0.000000</td>\n",
       "      <td>0.688442</td>\n",
       "      <td>0.327869</td>\n",
       "      <td>0.607516</td>\n",
       "      <td>0.605859</td>\n",
       "      <td>0.642325</td>\n",
       "      <td>0.983670</td>\n",
       "      <td>0.200000</td>\n",
       "      <td>1.0</td>\n",
       "      <td>-1.141852</td>\n",
       "      <td>0.504055</td>\n",
       "      <td>-1.504687</td>\n",
       "      <td>0.957206</td>\n",
       "      <td>0.964522</td>\n",
       "      <td>1.409746</td>\n",
       "      <td>2.776227</td>\n",
       "      <td>-0.020496</td>\n",
       "    </tr>\n",
       "  </tbody>\n",
       "</table>\n",
       "</div>"
      ],
      "text/plain": [
       "   Pregnancies   Glucose  BloodPressure  SkinThickness   Insulin       BMI  \\\n",
       "0     0.352941  0.743719       0.590164       0.607516  0.424351  0.500745   \n",
       "1     0.058824  0.427136       0.540984       0.536532  0.424351  0.396423   \n",
       "2     0.470588  0.919598       0.524590       0.406269  0.424351  0.347243   \n",
       "3     0.058824  0.447236       0.540984       0.449034  0.464283  0.418778   \n",
       "4     0.000000  0.688442       0.327869       0.607516  0.605859  0.642325   \n",
       "\n",
       "   DiabetesPedigreeFunction       Age  Outcome  Pregnancies_zscore  \\\n",
       "0                  0.606798  0.483333      1.0            0.639947   \n",
       "1                  0.437892  0.166667      0.0           -0.844885   \n",
       "2                  0.626977  0.183333      1.0            1.233880   \n",
       "3                  0.221638  0.000000      0.0           -0.844885   \n",
       "4                  0.983670  0.200000      1.0           -1.141852   \n",
       "\n",
       "   Glucose_zscore  BloodPressure_zscore  SkinThickness_zscore  Insulin_zscore  \\\n",
       "0        0.848324              0.149641              0.957206       -0.404190   \n",
       "1       -1.123396             -0.160546              0.420675       -0.404190   \n",
       "2        1.943724             -0.263941             -0.563910       -0.404190   \n",
       "3       -0.998208             -0.160546             -0.240676       -0.103074   \n",
       "4        0.504055             -1.504687              0.957206        0.964522   \n",
       "\n",
       "   BMI_zscore  DiabetesPedigreeFunction_zscore  Age_zscore  \n",
       "0    0.204013                         0.765848    1.425995  \n",
       "1   -0.684422                        -0.135159   -0.190672  \n",
       "2   -1.103255                         0.873492   -0.105584  \n",
       "3   -0.494043                        -1.288739   -1.041549  \n",
       "4    1.409746                         2.776227   -0.020496  "
      ]
     },
     "execution_count": 17,
     "metadata": {},
     "output_type": "execute_result"
    }
   ],
   "source": [
    "df.head(5)"
   ]
  },
  {
   "cell_type": "markdown",
   "metadata": {},
   "source": [
    "# BMI/Gulcose/BP/Insulin has Outliers, so Normalize with \"mean\" Values of each Column"
   ]
  },
  {
   "cell_type": "code",
   "execution_count": 18,
   "metadata": {},
   "outputs": [],
   "source": [
    "#print(df[df.BloodPressure_zscore <= -3])"
   ]
  },
  {
   "cell_type": "code",
   "execution_count": 19,
   "metadata": {},
   "outputs": [],
   "source": [
    "#print(df[df.Age_zscore >= 3])\n",
    "for index in range(8):\n",
    "    column = ColNames[index] \n",
    "    col_zscore = column + '_zscore'\n",
    "    df[column] = np.where((df[col_zscore] < -3) | (df[col_zscore] > 3), df[column].mean(), df[column])\n",
    "    "
   ]
  },
  {
   "cell_type": "code",
   "execution_count": 20,
   "metadata": {},
   "outputs": [],
   "source": [
    "#print(df[df.BloodPressure_zscore <= -3])"
   ]
  },
  {
   "cell_type": "code",
   "execution_count": 21,
   "metadata": {},
   "outputs": [],
   "source": [
    "#df.astype(bool).sum(axis=0)"
   ]
  },
  {
   "cell_type": "markdown",
   "metadata": {},
   "source": [
    "# Column features after Outliers replaced with mean"
   ]
  },
  {
   "cell_type": "code",
   "execution_count": 22,
   "metadata": {},
   "outputs": [
    {
     "data": {
      "text/plain": [
       "<matplotlib.axes._subplots.AxesSubplot at 0x1e26d096748>"
      ]
     },
     "execution_count": 22,
     "metadata": {},
     "output_type": "execute_result"
    },
    {
     "data": {
      "image/png": "[encoded data removed]",
      "text/plain": [
       "<matplotlib.figure.Figure at 0x1e26d096710>"
      ]
     },
     "metadata": {},
     "output_type": "display_data"
    }
   ],
   "source": [
    "plt.figure(figsize=(12, 8))\n",
    "sns.distplot(df['Pregnancies'],color='Blue',label='Pregnancies',hist=False)\n",
    "sns.distplot(df['Glucose'],color='green',label='Glucose',hist=False)\n",
    "sns.distplot(df['BloodPressure'],color='yellow',label='BloodPressure',hist=False)\n",
    "sns.distplot(df['SkinThickness'],color='black',label='SkinThickness',hist=False)\n",
    "sns.distplot(df['Insulin'],color='orange',label='Insulin',hist=False)\n",
    "sns.distplot(df['BMI'],color='red',label='BMI',hist=False)\n",
    "sns.distplot(df['DiabetesPedigreeFunction'],color='Brown',label='DiabetesPedigreeFunction',hist=False)\n",
    "sns.distplot(df['Age'],color='violet',axlabel='Density Plot',label='Age',hist=False)"
   ]
  },
  {
   "cell_type": "markdown",
   "metadata": {},
   "source": [
    "# Statistical Inference after Normalization"
   ]
  },
  {
   "cell_type": "code",
   "execution_count": 23,
   "metadata": {},
   "outputs": [
    {
     "data": {
      "text/html": [
       "<div>\n",
       "<style scoped>\n",
       "    .dataframe tbody tr th:only-of-type {\n",
       "        vertical-align: middle;\n",
       "    }\n",
       "\n",
       "    .dataframe tbody tr th {\n",
       "        vertical-align: top;\n",
       "    }\n",
       "\n",
       "    .dataframe thead th {\n",
       "        text-align: right;\n",
       "    }\n",
       "</style>\n",
       "<table border=\"1\" class=\"dataframe\">\n",
       "  <thead>\n",
       "    <tr style=\"text-align: right;\">\n",
       "      <th></th>\n",
       "      <th>Pregnancies</th>\n",
       "      <th>Glucose</th>\n",
       "      <th>BloodPressure</th>\n",
       "      <th>SkinThickness</th>\n",
       "      <th>Insulin</th>\n",
       "      <th>BMI</th>\n",
       "      <th>DiabetesPedigreeFunction</th>\n",
       "      <th>Age</th>\n",
       "      <th>Outcome</th>\n",
       "      <th>Pregnancies_zscore</th>\n",
       "      <th>Glucose_zscore</th>\n",
       "      <th>BloodPressure_zscore</th>\n",
       "      <th>SkinThickness_zscore</th>\n",
       "      <th>Insulin_zscore</th>\n",
       "      <th>BMI_zscore</th>\n",
       "      <th>DiabetesPedigreeFunction_zscore</th>\n",
       "      <th>Age_zscore</th>\n",
       "    </tr>\n",
       "  </thead>\n",
       "  <tbody>\n",
       "    <tr>\n",
       "      <th>count</th>\n",
       "      <td>768.000000</td>\n",
       "      <td>768.000000</td>\n",
       "      <td>768.000000</td>\n",
       "      <td>768.000000</td>\n",
       "      <td>768.000000</td>\n",
       "      <td>768.000000</td>\n",
       "      <td>768.000000</td>\n",
       "      <td>768.000000</td>\n",
       "      <td>768.000000</td>\n",
       "      <td>7.680000e+02</td>\n",
       "      <td>7.680000e+02</td>\n",
       "      <td>7.680000e+02</td>\n",
       "      <td>7.680000e+02</td>\n",
       "      <td>7.680000e+02</td>\n",
       "      <td>7.680000e+02</td>\n",
       "      <td>7.680000e+02</td>\n",
       "      <td>7.680000e+02</td>\n",
       "    </tr>\n",
       "    <tr>\n",
       "      <th>mean</th>\n",
       "      <td>0.222762</td>\n",
       "      <td>0.611465</td>\n",
       "      <td>0.592253</td>\n",
       "      <td>0.482573</td>\n",
       "      <td>0.475645</td>\n",
       "      <td>0.481914</td>\n",
       "      <td>0.463229</td>\n",
       "      <td>0.199787</td>\n",
       "      <td>0.348958</td>\n",
       "      <td>-6.866614e-15</td>\n",
       "      <td>-2.503061e-15</td>\n",
       "      <td>2.561970e-15</td>\n",
       "      <td>-4.705582e-15</td>\n",
       "      <td>2.295892e-14</td>\n",
       "      <td>3.491456e-15</td>\n",
       "      <td>2.039095e-15</td>\n",
       "      <td>-6.641100e-16</td>\n",
       "    </tr>\n",
       "    <tr>\n",
       "      <th>std</th>\n",
       "      <td>0.192362</td>\n",
       "      <td>0.152945</td>\n",
       "      <td>0.099311</td>\n",
       "      <td>0.126832</td>\n",
       "      <td>0.118294</td>\n",
       "      <td>0.098790</td>\n",
       "      <td>0.187586</td>\n",
       "      <td>0.188717</td>\n",
       "      <td>0.476951</td>\n",
       "      <td>1.000652e+00</td>\n",
       "      <td>1.000652e+00</td>\n",
       "      <td>1.000652e+00</td>\n",
       "      <td>1.000652e+00</td>\n",
       "      <td>1.000652e+00</td>\n",
       "      <td>1.000652e+00</td>\n",
       "      <td>1.000652e+00</td>\n",
       "      <td>1.000652e+00</td>\n",
       "    </tr>\n",
       "    <tr>\n",
       "      <th>min</th>\n",
       "      <td>0.000000</td>\n",
       "      <td>0.221106</td>\n",
       "      <td>0.196721</td>\n",
       "      <td>0.134634</td>\n",
       "      <td>0.110201</td>\n",
       "      <td>0.271237</td>\n",
       "      <td>0.000000</td>\n",
       "      <td>0.000000</td>\n",
       "      <td>0.000000</td>\n",
       "      <td>-1.141852e+00</td>\n",
       "      <td>-3.783654e+00</td>\n",
       "      <td>-3.572597e+00</td>\n",
       "      <td>-3.634670e+00</td>\n",
       "      <td>-3.604133e+00</td>\n",
       "      <td>-4.060474e+00</td>\n",
       "      <td>-2.471038e+00</td>\n",
       "      <td>-1.041549e+00</td>\n",
       "    </tr>\n",
       "    <tr>\n",
       "      <th>25%</th>\n",
       "      <td>0.058824</td>\n",
       "      <td>0.501256</td>\n",
       "      <td>0.524590</td>\n",
       "      <td>0.406269</td>\n",
       "      <td>0.424351</td>\n",
       "      <td>0.409836</td>\n",
       "      <td>0.331731</td>\n",
       "      <td>0.050000</td>\n",
       "      <td>0.000000</td>\n",
       "      <td>-8.448851e-01</td>\n",
       "      <td>-6.852363e-01</td>\n",
       "      <td>-3.673367e-01</td>\n",
       "      <td>-5.639099e-01</td>\n",
       "      <td>-4.041901e-01</td>\n",
       "      <td>-5.955785e-01</td>\n",
       "      <td>-7.014634e-01</td>\n",
       "      <td>-7.862862e-01</td>\n",
       "    </tr>\n",
       "    <tr>\n",
       "      <th>50%</th>\n",
       "      <td>0.176471</td>\n",
       "      <td>0.587940</td>\n",
       "      <td>0.590164</td>\n",
       "      <td>0.449034</td>\n",
       "      <td>0.424351</td>\n",
       "      <td>0.476900</td>\n",
       "      <td>0.455198</td>\n",
       "      <td>0.133333</td>\n",
       "      <td>0.000000</td>\n",
       "      <td>-2.509521e-01</td>\n",
       "      <td>-1.218877e-01</td>\n",
       "      <td>1.496408e-01</td>\n",
       "      <td>-2.406760e-01</td>\n",
       "      <td>-4.041901e-01</td>\n",
       "      <td>9.419788e-04</td>\n",
       "      <td>-4.284235e-02</td>\n",
       "      <td>-3.608474e-01</td>\n",
       "    </tr>\n",
       "    <tr>\n",
       "      <th>75%</th>\n",
       "      <td>0.352941</td>\n",
       "      <td>0.704774</td>\n",
       "      <td>0.655738</td>\n",
       "      <td>0.573690</td>\n",
       "      <td>0.527852</td>\n",
       "      <td>0.543964</td>\n",
       "      <td>0.606449</td>\n",
       "      <td>0.316667</td>\n",
       "      <td>1.000000</td>\n",
       "      <td>6.399473e-01</td>\n",
       "      <td>6.057709e-01</td>\n",
       "      <td>5.632228e-01</td>\n",
       "      <td>7.015341e-01</td>\n",
       "      <td>4.537398e-01</td>\n",
       "      <td>5.847705e-01</td>\n",
       "      <td>7.639893e-01</td>\n",
       "      <td>6.602056e-01</td>\n",
       "    </tr>\n",
       "    <tr>\n",
       "      <th>max</th>\n",
       "      <td>0.764706</td>\n",
       "      <td>1.000000</td>\n",
       "      <td>1.000000</td>\n",
       "      <td>0.829389</td>\n",
       "      <td>0.869324</td>\n",
       "      <td>0.819672</td>\n",
       "      <td>1.000000</td>\n",
       "      <td>0.783333</td>\n",
       "      <td>1.000000</td>\n",
       "      <td>3.906578e+00</td>\n",
       "      <td>2.444478e+00</td>\n",
       "      <td>2.734528e+00</td>\n",
       "      <td>3.923771e+00</td>\n",
       "      <td>3.936659e+00</td>\n",
       "      <td>4.455807e+00</td>\n",
       "      <td>2.863336e+00</td>\n",
       "      <td>4.063716e+00</td>\n",
       "    </tr>\n",
       "  </tbody>\n",
       "</table>\n",
       "</div>"
      ],
      "text/plain": [
       "       Pregnancies     Glucose  BloodPressure  SkinThickness     Insulin  \\\n",
       "count   768.000000  768.000000     768.000000     768.000000  768.000000   \n",
       "mean      0.222762    0.611465       0.592253       0.482573    0.475645   \n",
       "std       0.192362    0.152945       0.099311       0.126832    0.118294   \n",
       "min       0.000000    0.221106       0.196721       0.134634    0.110201   \n",
       "25%       0.058824    0.501256       0.524590       0.406269    0.424351   \n",
       "50%       0.176471    0.587940       0.590164       0.449034    0.424351   \n",
       "75%       0.352941    0.704774       0.655738       0.573690    0.527852   \n",
       "max       0.764706    1.000000       1.000000       0.829389    0.869324   \n",
       "\n",
       "              BMI  DiabetesPedigreeFunction         Age     Outcome  \\\n",
       "count  768.000000                768.000000  768.000000  768.000000   \n",
       "mean     0.481914                  0.463229    0.199787    0.348958   \n",
       "std      0.098790                  0.187586    0.188717    0.476951   \n",
       "min      0.271237                  0.000000    0.000000    0.000000   \n",
       "25%      0.409836                  0.331731    0.050000    0.000000   \n",
       "50%      0.476900                  0.455198    0.133333    0.000000   \n",
       "75%      0.543964                  0.606449    0.316667    1.000000   \n",
       "max      0.819672                  1.000000    0.783333    1.000000   \n",
       "\n",
       "       Pregnancies_zscore  Glucose_zscore  BloodPressure_zscore  \\\n",
       "count        7.680000e+02    7.680000e+02          7.680000e+02   \n",
       "mean        -6.866614e-15   -2.503061e-15          2.561970e-15   \n",
       "std          1.000652e+00    1.000652e+00          1.000652e+00   \n",
       "min         -1.141852e+00   -3.783654e+00         -3.572597e+00   \n",
       "25%         -8.448851e-01   -6.852363e-01         -3.673367e-01   \n",
       "50%         -2.509521e-01   -1.218877e-01          1.496408e-01   \n",
       "75%          6.399473e-01    6.057709e-01          5.632228e-01   \n",
       "max          3.906578e+00    2.444478e+00          2.734528e+00   \n",
       "\n",
       "       SkinThickness_zscore  Insulin_zscore    BMI_zscore  \\\n",
       "count          7.680000e+02    7.680000e+02  7.680000e+02   \n",
       "mean          -4.705582e-15    2.295892e-14  3.491456e-15   \n",
       "std            1.000652e+00    1.000652e+00  1.000652e+00   \n",
       "min           -3.634670e+00   -3.604133e+00 -4.060474e+00   \n",
       "25%           -5.639099e-01   -4.041901e-01 -5.955785e-01   \n",
       "50%           -2.406760e-01   -4.041901e-01  9.419788e-04   \n",
       "75%            7.015341e-01    4.537398e-01  5.847705e-01   \n",
       "max            3.923771e+00    3.936659e+00  4.455807e+00   \n",
       "\n",
       "       DiabetesPedigreeFunction_zscore    Age_zscore  \n",
       "count                     7.680000e+02  7.680000e+02  \n",
       "mean                      2.039095e-15 -6.641100e-16  \n",
       "std                       1.000652e+00  1.000652e+00  \n",
       "min                      -2.471038e+00 -1.041549e+00  \n",
       "25%                      -7.014634e-01 -7.862862e-01  \n",
       "50%                      -4.284235e-02 -3.608474e-01  \n",
       "75%                       7.639893e-01  6.602056e-01  \n",
       "max                       2.863336e+00  4.063716e+00  "
      ]
     },
     "execution_count": 23,
     "metadata": {},
     "output_type": "execute_result"
    }
   ],
   "source": [
    "df.describe()"
   ]
  },
  {
   "cell_type": "markdown",
   "metadata": {},
   "source": [
    "# Drop the Z-Score Columns"
   ]
  },
  {
   "cell_type": "code",
   "execution_count": 24,
   "metadata": {},
   "outputs": [
    {
     "data": {
      "text/html": [
       "<div>\n",
       "<style scoped>\n",
       "    .dataframe tbody tr th:only-of-type {\n",
       "        vertical-align: middle;\n",
       "    }\n",
       "\n",
       "    .dataframe tbody tr th {\n",
       "        vertical-align: top;\n",
       "    }\n",
       "\n",
       "    .dataframe thead th {\n",
       "        text-align: right;\n",
       "    }\n",
       "</style>\n",
       "<table border=\"1\" class=\"dataframe\">\n",
       "  <thead>\n",
       "    <tr style=\"text-align: right;\">\n",
       "      <th></th>\n",
       "      <th>Pregnancies</th>\n",
       "      <th>Glucose</th>\n",
       "      <th>BloodPressure</th>\n",
       "      <th>SkinThickness</th>\n",
       "      <th>Insulin</th>\n",
       "      <th>BMI</th>\n",
       "      <th>DiabetesPedigreeFunction</th>\n",
       "      <th>Age</th>\n",
       "      <th>Outcome</th>\n",
       "    </tr>\n",
       "  </thead>\n",
       "  <tbody>\n",
       "    <tr>\n",
       "      <th>0</th>\n",
       "      <td>0.352941</td>\n",
       "      <td>0.743719</td>\n",
       "      <td>0.590164</td>\n",
       "      <td>0.607516</td>\n",
       "      <td>0.424351</td>\n",
       "      <td>0.500745</td>\n",
       "      <td>0.606798</td>\n",
       "      <td>0.483333</td>\n",
       "      <td>1.0</td>\n",
       "    </tr>\n",
       "    <tr>\n",
       "      <th>1</th>\n",
       "      <td>0.058824</td>\n",
       "      <td>0.427136</td>\n",
       "      <td>0.540984</td>\n",
       "      <td>0.536532</td>\n",
       "      <td>0.424351</td>\n",
       "      <td>0.396423</td>\n",
       "      <td>0.437892</td>\n",
       "      <td>0.166667</td>\n",
       "      <td>0.0</td>\n",
       "    </tr>\n",
       "    <tr>\n",
       "      <th>2</th>\n",
       "      <td>0.470588</td>\n",
       "      <td>0.919598</td>\n",
       "      <td>0.524590</td>\n",
       "      <td>0.406269</td>\n",
       "      <td>0.424351</td>\n",
       "      <td>0.347243</td>\n",
       "      <td>0.626977</td>\n",
       "      <td>0.183333</td>\n",
       "      <td>1.0</td>\n",
       "    </tr>\n",
       "    <tr>\n",
       "      <th>3</th>\n",
       "      <td>0.058824</td>\n",
       "      <td>0.447236</td>\n",
       "      <td>0.540984</td>\n",
       "      <td>0.449034</td>\n",
       "      <td>0.464283</td>\n",
       "      <td>0.418778</td>\n",
       "      <td>0.221638</td>\n",
       "      <td>0.000000</td>\n",
       "      <td>0.0</td>\n",
       "    </tr>\n",
       "    <tr>\n",
       "      <th>4</th>\n",
       "      <td>0.000000</td>\n",
       "      <td>0.688442</td>\n",
       "      <td>0.327869</td>\n",
       "      <td>0.607516</td>\n",
       "      <td>0.605859</td>\n",
       "      <td>0.642325</td>\n",
       "      <td>0.983670</td>\n",
       "      <td>0.200000</td>\n",
       "      <td>1.0</td>\n",
       "    </tr>\n",
       "  </tbody>\n",
       "</table>\n",
       "</div>"
      ],
      "text/plain": [
       "   Pregnancies   Glucose  BloodPressure  SkinThickness   Insulin       BMI  \\\n",
       "0     0.352941  0.743719       0.590164       0.607516  0.424351  0.500745   \n",
       "1     0.058824  0.427136       0.540984       0.536532  0.424351  0.396423   \n",
       "2     0.470588  0.919598       0.524590       0.406269  0.424351  0.347243   \n",
       "3     0.058824  0.447236       0.540984       0.449034  0.464283  0.418778   \n",
       "4     0.000000  0.688442       0.327869       0.607516  0.605859  0.642325   \n",
       "\n",
       "   DiabetesPedigreeFunction       Age  Outcome  \n",
       "0                  0.606798  0.483333      1.0  \n",
       "1                  0.437892  0.166667      0.0  \n",
       "2                  0.626977  0.183333      1.0  \n",
       "3                  0.221638  0.000000      0.0  \n",
       "4                  0.983670  0.200000      1.0  "
      ]
     },
     "execution_count": 24,
     "metadata": {},
     "output_type": "execute_result"
    }
   ],
   "source": [
    "df = df.drop(\"Pregnancies_zscore\",axis=1)\n",
    "df = df.drop(\"Glucose_zscore\",axis=1)\n",
    "df = df.drop(\"BloodPressure_zscore\",axis=1)\n",
    "df = df.drop(\"SkinThickness_zscore\",axis=1)\n",
    "df = df.drop(\"Insulin_zscore\",axis=1)\n",
    "df = df.drop(\"BMI_zscore\",axis=1)\n",
    "df = df.drop(\"DiabetesPedigreeFunction_zscore\",axis=1)\n",
    "df = df.drop(\"Age_zscore\",axis=1)\n",
    "df.head(5)"
   ]
  },
  {
   "cell_type": "markdown",
   "metadata": {},
   "source": [
    "# Removing the Possible Outlier from BOX Plot Data range on each columns"
   ]
  },
  {
   "cell_type": "code",
   "execution_count": 25,
   "metadata": {},
   "outputs": [],
   "source": [
    "df['BloodPressure'] = np.where((df['BloodPressure'] < 0.32) | (df['BloodPressure'] > 0.86), df['BloodPressure'].mean(), df['BloodPressure'])\n",
    "#df['Insulin'] = np.where((df['Insulin'] > 0.29), df['Insulin'].mean(), df['Insulin'])\n",
    "df['Insulin'] = np.where((df['Insulin'] < 0.37), df['Insulin'].mean(), df['Insulin'])\n",
    "df['Insulin'] = np.where((df['Insulin'] > 0.53), df['Insulin'].mean(), df['Insulin'])\n",
    "#df['DiabetesPedigreeFunction'] = np.where((df['DiabetesPedigreeFunction'] > 0.4), df['DiabetesPedigreeFunction'].mean(), df['DiabetesPedigreeFunction'])\n",
    "df['BMI'] = np.where((df['BMI'] > 0.72), df['BMI'].mean(), df['BMI'])\n",
    "df['SkinThickness'] = np.where((df['SkinThickness'] < 0.2) | (df['SkinThickness'] > 0.8), df['SkinThickness'].mean(), df['SkinThickness'])\n",
    "df['Age'] = np.where((df['Age'] > 0.68), df['Age'].mean(), df['Age'])\n",
    "#df.astype(bool).sum(axis=0)"
   ]
  },
  {
   "cell_type": "markdown",
   "metadata": {},
   "source": [
    "# BoxPlot Shows - no Outlier's in dataset"
   ]
  },
  {
   "cell_type": "code",
   "execution_count": 26,
   "metadata": {},
   "outputs": [
    {
     "data": {
      "image/png": "[encoded data removed]",
      "text/plain": [
       "<matplotlib.figure.Figure at 0x1e26cdf9240>"
      ]
     },
     "metadata": {},
     "output_type": "display_data"
    }
   ],
   "source": [
    "plt.figure(figsize=(20,16))\n",
    "for i in range(0,8):\n",
    "    plt.subplot(3,3,i+1)\n",
    "    plt.boxplot(df[ColNames[i]])\n",
    "    plt.title(ColNames[i])"
   ]
  },
  {
   "cell_type": "markdown",
   "metadata": {},
   "source": [
    "# Correlation b/w Variables"
   ]
  },
  {
   "cell_type": "code",
   "execution_count": 27,
   "metadata": {},
   "outputs": [
    {
     "data": {
      "image/png": "[encoded data removed]",
      "text/plain": [
       "<matplotlib.figure.Figure at 0x1e26d01b240>"
      ]
     },
     "metadata": {},
     "output_type": "display_data"
    }
   ],
   "source": [
    "#Pearson correlation\n",
    "plt.figure(figsize=(12, 8))\n",
    "Pcorr = df.corr()\n",
    "sns.heatmap(Pcorr,cmap ='RdYlGn', linewidths = 0.30,annot=True)\n",
    "plt.show()"
   ]
  },
  {
   "cell_type": "markdown",
   "metadata": {},
   "source": [
    "# All the features are Important in the dataset (less likely PedigreeFunction) \n",
    "\n",
    "# Scenario1: Without Removing any feature"
   ]
  },
  {
   "cell_type": "markdown",
   "metadata": {},
   "source": [
    "# Importing SKLEARN Libraries"
   ]
  },
  {
   "cell_type": "code",
   "execution_count": 28,
   "metadata": {},
   "outputs": [],
   "source": [
    "#importing train_test_split\n",
    "from sklearn.model_selection import train_test_split\n",
    "#Import Library of Gaussian Naive Bayes model\n",
    "from sklearn.naive_bayes import GaussianNB\n",
    "#import confusion_matrix # ML Model Evaluation\n",
    "from sklearn.metrics import confusion_matrix, accuracy_score, f1_score"
   ]
  },
  {
   "cell_type": "markdown",
   "metadata": {},
   "source": [
    "# Spliting Training & Test Dataset"
   ]
  },
  {
   "cell_type": "code",
   "execution_count": 29,
   "metadata": {},
   "outputs": [],
   "source": [
    "X = df.iloc[:,0:8]\n",
    "y = df.iloc[:,8]\n",
    "\n",
    "#the proportion of labels should remain same in the splits, so we use \"stratify\"\n",
    "X_train,X_test,y_train,y_test = train_test_split(X,y,test_size=0.3,random_state=42, stratify=y)"
   ]
  },
  {
   "cell_type": "code",
   "execution_count": 30,
   "metadata": {},
   "outputs": [
    {
     "data": {
      "text/plain": [
       "GaussianNB(priors=None)"
      ]
     },
     "execution_count": 30,
     "metadata": {},
     "output_type": "execute_result"
    }
   ],
   "source": [
    "#Create a Gaussian Classifier\n",
    "model = GaussianNB()\n",
    "\n",
    "# Train the model using the training sets \n",
    "model.fit(X_train, y_train)"
   ]
  },
  {
   "cell_type": "markdown",
   "metadata": {},
   "source": [
    "# Predicting the Test Dataset"
   ]
  },
  {
   "cell_type": "code",
   "execution_count": 31,
   "metadata": {},
   "outputs": [],
   "source": [
    "#Predict on test data\n",
    "y_pred= model.predict(X_test)"
   ]
  },
  {
   "cell_type": "markdown",
   "metadata": {},
   "source": [
    "# Evaluating the Prediction\n",
    "# 0 - Not Diabetes\n",
    "# 1 - Diabetes"
   ]
  },
  {
   "cell_type": "markdown",
   "metadata": {},
   "source": [
    "# Confusion Matrix"
   ]
  },
  {
   "cell_type": "code",
   "execution_count": 32,
   "metadata": {},
   "outputs": [
    {
     "data": {
      "text/plain": [
       "array([[125,  25],\n",
       "       [ 30,  51]], dtype=int64)"
      ]
     },
     "execution_count": 32,
     "metadata": {},
     "output_type": "execute_result"
    }
   ],
   "source": [
    "#Evaluate Results\n",
    "cm=confusion_matrix(y_test,y_pred)\n",
    "cm\n"
   ]
  },
  {
   "cell_type": "code",
   "execution_count": 33,
   "metadata": {},
   "outputs": [
    {
     "data": {
      "text/html": [
       "<div>\n",
       "<style scoped>\n",
       "    .dataframe tbody tr th:only-of-type {\n",
       "        vertical-align: middle;\n",
       "    }\n",
       "\n",
       "    .dataframe tbody tr th {\n",
       "        vertical-align: top;\n",
       "    }\n",
       "\n",
       "    .dataframe thead th {\n",
       "        text-align: right;\n",
       "    }\n",
       "</style>\n",
       "<table border=\"1\" class=\"dataframe\">\n",
       "  <thead>\n",
       "    <tr style=\"text-align: right;\">\n",
       "      <th>Predicted</th>\n",
       "      <th>0.0</th>\n",
       "      <th>1.0</th>\n",
       "      <th>All</th>\n",
       "    </tr>\n",
       "    <tr>\n",
       "      <th>Outcome</th>\n",
       "      <th></th>\n",
       "      <th></th>\n",
       "      <th></th>\n",
       "    </tr>\n",
       "  </thead>\n",
       "  <tbody>\n",
       "    <tr>\n",
       "      <th>0.0</th>\n",
       "      <td>125</td>\n",
       "      <td>25</td>\n",
       "      <td>150</td>\n",
       "    </tr>\n",
       "    <tr>\n",
       "      <th>1.0</th>\n",
       "      <td>30</td>\n",
       "      <td>51</td>\n",
       "      <td>81</td>\n",
       "    </tr>\n",
       "    <tr>\n",
       "      <th>All</th>\n",
       "      <td>155</td>\n",
       "      <td>76</td>\n",
       "      <td>231</td>\n",
       "    </tr>\n",
       "  </tbody>\n",
       "</table>\n",
       "</div>"
      ],
      "text/plain": [
       "Predicted  0.0  1.0  All\n",
       "Outcome                 \n",
       "0.0        125   25  150\n",
       "1.0         30   51   81\n",
       "All        155   76  231"
      ]
     },
     "execution_count": 33,
     "metadata": {},
     "output_type": "execute_result"
    }
   ],
   "source": [
    "pd.crosstab(y_test, y_pred, colnames = ['Predicted'], margins = True)"
   ]
  },
  {
   "cell_type": "markdown",
   "metadata": {},
   "source": [
    "# Accuracy, F1-Score, & MisClassification"
   ]
  },
  {
   "cell_type": "code",
   "execution_count": 34,
   "metadata": {},
   "outputs": [
    {
     "data": {
      "text/plain": [
       "0.7619047619047619"
      ]
     },
     "execution_count": 34,
     "metadata": {},
     "output_type": "execute_result"
    }
   ],
   "source": [
    "accuracy_score(y_test, y_pred)"
   ]
  },
  {
   "cell_type": "code",
   "execution_count": 35,
   "metadata": {},
   "outputs": [
    {
     "data": {
      "text/plain": [
       "0.6496815286624203"
      ]
     },
     "execution_count": 35,
     "metadata": {},
     "output_type": "execute_result"
    }
   ],
   "source": [
    "f1_score(y_test, y_pred)"
   ]
  },
  {
   "cell_type": "markdown",
   "metadata": {},
   "source": [
    "# Misclassification FN+FP/(TP+FP+FN+TN)"
   ]
  },
  {
   "cell_type": "code",
   "execution_count": 36,
   "metadata": {},
   "outputs": [
    {
     "data": {
      "text/plain": [
       "0.23809523809523808"
      ]
     },
     "execution_count": 36,
     "metadata": {},
     "output_type": "execute_result"
    }
   ],
   "source": [
    "#Misclassification \n",
    "(cm[1][0]+cm[0][1])/(cm[1][0]+cm[0][1]+cm[0][0]+cm[1][1])"
   ]
  },
  {
   "cell_type": "markdown",
   "metadata": {},
   "source": [
    "# Sensitivity TP/(TP+FN)"
   ]
  },
  {
   "cell_type": "code",
   "execution_count": 37,
   "metadata": {},
   "outputs": [
    {
     "data": {
      "text/plain": [
       "0.8333333333333334"
      ]
     },
     "execution_count": 37,
     "metadata": {},
     "output_type": "execute_result"
    }
   ],
   "source": [
    "#Sensitivity\n",
    "(cm[0][0])/(cm[0][1]+cm[0][0])"
   ]
  },
  {
   "cell_type": "markdown",
   "metadata": {},
   "source": [
    "# Specificity FP/(FP+TN)"
   ]
  },
  {
   "cell_type": "code",
   "execution_count": 38,
   "metadata": {},
   "outputs": [
    {
     "data": {
      "text/plain": [
       "0.6296296296296297"
      ]
     },
     "execution_count": 38,
     "metadata": {},
     "output_type": "execute_result"
    }
   ],
   "source": [
    "#Specificity\n",
    "(cm[1][1])/(cm[1][0]+cm[1][1])"
   ]
  },
  {
   "attachments": {
    "Test1.PNG": {
     "image/png": "[encoded data removed]"
    }
   },
   "cell_type": "markdown",
   "metadata": {},
   "source": [
    "![Test1.PNG](attachment:Test1.PNG)"
   ]
  },
  {
   "cell_type": "markdown",
   "metadata": {},
   "source": [
    "# Scenario2: Removing PedigreeFunction"
   ]
  },
  {
   "cell_type": "markdown",
   "metadata": {},
   "source": [
    "# Drop the PedigreeFunction Column"
   ]
  },
  {
   "cell_type": "code",
   "execution_count": 39,
   "metadata": {},
   "outputs": [],
   "source": [
    "df = df.drop(\"DiabetesPedigreeFunction\",axis=1)"
   ]
  },
  {
   "cell_type": "markdown",
   "metadata": {},
   "source": [
    "# Spliting Training & Test Dataset"
   ]
  },
  {
   "cell_type": "code",
   "execution_count": 40,
   "metadata": {},
   "outputs": [],
   "source": [
    "X1 = df.iloc[:,0:7]\n",
    "y1 = df.iloc[:,7]\n",
    "\n",
    "#the proportion of labels should remain same in the splits, so we use \"stratify\"\n",
    "X1_train,X1_test,y1_train,y1_test = train_test_split(X1,y1,test_size=0.3,random_state=42, stratify=y)"
   ]
  },
  {
   "cell_type": "code",
   "execution_count": 41,
   "metadata": {},
   "outputs": [
    {
     "data": {
      "text/plain": [
       "GaussianNB(priors=None)"
      ]
     },
     "execution_count": 41,
     "metadata": {},
     "output_type": "execute_result"
    }
   ],
   "source": [
    "#Create a Gaussian Classifier\n",
    "model1 = GaussianNB()\n",
    "\n",
    "# Train the model using the training sets \n",
    "model1.fit(X1_train, y1_train)"
   ]
  },
  {
   "cell_type": "markdown",
   "metadata": {},
   "source": [
    "# Predicting the Test Dataset"
   ]
  },
  {
   "cell_type": "code",
   "execution_count": 42,
   "metadata": {},
   "outputs": [],
   "source": [
    "#Predict on test data\n",
    "y1_pred= model1.predict(X1_test)"
   ]
  },
  {
   "cell_type": "markdown",
   "metadata": {},
   "source": [
    "# Evaluating the Prediction\n",
    "# 0 - Not Diabetes\n",
    "# 1 - Diabetes"
   ]
  },
  {
   "cell_type": "markdown",
   "metadata": {},
   "source": [
    "# Confusion Matrix"
   ]
  },
  {
   "cell_type": "code",
   "execution_count": 43,
   "metadata": {},
   "outputs": [
    {
     "data": {
      "text/plain": [
       "array([[124,  26],\n",
       "       [ 31,  50]], dtype=int64)"
      ]
     },
     "execution_count": 43,
     "metadata": {},
     "output_type": "execute_result"
    }
   ],
   "source": [
    "#Evaluate Results\n",
    "cm1=confusion_matrix(y1_test,y1_pred)\n",
    "cm1\n"
   ]
  },
  {
   "cell_type": "code",
   "execution_count": 44,
   "metadata": {},
   "outputs": [
    {
     "data": {
      "text/html": [
       "<div>\n",
       "<style scoped>\n",
       "    .dataframe tbody tr th:only-of-type {\n",
       "        vertical-align: middle;\n",
       "    }\n",
       "\n",
       "    .dataframe tbody tr th {\n",
       "        vertical-align: top;\n",
       "    }\n",
       "\n",
       "    .dataframe thead th {\n",
       "        text-align: right;\n",
       "    }\n",
       "</style>\n",
       "<table border=\"1\" class=\"dataframe\">\n",
       "  <thead>\n",
       "    <tr style=\"text-align: right;\">\n",
       "      <th>Predicted</th>\n",
       "      <th>0.0</th>\n",
       "      <th>1.0</th>\n",
       "      <th>All</th>\n",
       "    </tr>\n",
       "    <tr>\n",
       "      <th>Outcome</th>\n",
       "      <th></th>\n",
       "      <th></th>\n",
       "      <th></th>\n",
       "    </tr>\n",
       "  </thead>\n",
       "  <tbody>\n",
       "    <tr>\n",
       "      <th>0.0</th>\n",
       "      <td>124</td>\n",
       "      <td>26</td>\n",
       "      <td>150</td>\n",
       "    </tr>\n",
       "    <tr>\n",
       "      <th>1.0</th>\n",
       "      <td>31</td>\n",
       "      <td>50</td>\n",
       "      <td>81</td>\n",
       "    </tr>\n",
       "    <tr>\n",
       "      <th>All</th>\n",
       "      <td>155</td>\n",
       "      <td>76</td>\n",
       "      <td>231</td>\n",
       "    </tr>\n",
       "  </tbody>\n",
       "</table>\n",
       "</div>"
      ],
      "text/plain": [
       "Predicted  0.0  1.0  All\n",
       "Outcome                 \n",
       "0.0        124   26  150\n",
       "1.0         31   50   81\n",
       "All        155   76  231"
      ]
     },
     "execution_count": 44,
     "metadata": {},
     "output_type": "execute_result"
    }
   ],
   "source": [
    "pd.crosstab(y1_test, y1_pred, colnames = ['Predicted'], margins = True)"
   ]
  },
  {
   "cell_type": "markdown",
   "metadata": {},
   "source": [
    "# Accuracy, F1-Score, & MisClassification"
   ]
  },
  {
   "cell_type": "code",
   "execution_count": 45,
   "metadata": {},
   "outputs": [
    {
     "data": {
      "text/plain": [
       "0.7532467532467533"
      ]
     },
     "execution_count": 45,
     "metadata": {},
     "output_type": "execute_result"
    }
   ],
   "source": [
    "accuracy_score(y1_test, y1_pred)"
   ]
  },
  {
   "cell_type": "code",
   "execution_count": 46,
   "metadata": {},
   "outputs": [
    {
     "data": {
      "text/plain": [
       "0.6369426751592356"
      ]
     },
     "execution_count": 46,
     "metadata": {},
     "output_type": "execute_result"
    }
   ],
   "source": [
    "f1_score(y1_test, y1_pred)"
   ]
  },
  {
   "cell_type": "markdown",
   "metadata": {},
   "source": [
    "# Misclassification FN+FP/(TP+FP+FN+TN)"
   ]
  },
  {
   "cell_type": "code",
   "execution_count": 47,
   "metadata": {},
   "outputs": [
    {
     "data": {
      "text/plain": [
       "0.24675324675324675"
      ]
     },
     "execution_count": 47,
     "metadata": {},
     "output_type": "execute_result"
    }
   ],
   "source": [
    "#Misclassification \n",
    "(cm1[1][0]+cm1[0][1])/(cm1[1][0]+cm1[0][1]+cm1[0][0]+cm1[1][1])"
   ]
  },
  {
   "cell_type": "markdown",
   "metadata": {},
   "source": [
    "# Sensitivity TP/(TP+FN)"
   ]
  },
  {
   "cell_type": "code",
   "execution_count": 48,
   "metadata": {},
   "outputs": [
    {
     "data": {
      "text/plain": [
       "0.8266666666666667"
      ]
     },
     "execution_count": 48,
     "metadata": {},
     "output_type": "execute_result"
    }
   ],
   "source": [
    "#Sensitivity\n",
    "(cm1[0][0])/(cm1[0][1]+cm1[0][0])"
   ]
  },
  {
   "cell_type": "markdown",
   "metadata": {},
   "source": [
    "# Specificity FP/(FP+TN)"
   ]
  },
  {
   "cell_type": "code",
   "execution_count": 49,
   "metadata": {},
   "outputs": [
    {
     "data": {
      "text/plain": [
       "0.6172839506172839"
      ]
     },
     "execution_count": 49,
     "metadata": {},
     "output_type": "execute_result"
    }
   ],
   "source": [
    "#Specificity\n",
    "(cm1[1][1])/(cm1[1][0]+cm1[1][1])"
   ]
  },
  {
   "attachments": {
    "Test2.PNG": {
     "image/png": "[encoded data removed]"
    }
   },
   "cell_type": "markdown",
   "metadata": {},
   "source": [
    "![Test2.PNG](attachment:Test2.PNG)"
   ]
  },
  {
   "cell_type": "code",
   "execution_count": null,
   "metadata": {},
   "outputs": [],
   "source": []
  }
 ],
 "metadata": {
  "kernelspec": {
   "display_name": "Python 3",
   "language": "python",
   "name": "python3"
  },
  "language_info": {
   "codemirror_mode": {
    "name": "ipython",
    "version": 3
   },
   "file_extension": ".py",
   "mimetype": "text/x-python",
   "name": "python",
   "nbconvert_exporter": "python",
   "pygments_lexer": "ipython3",
   "version": "3.8.5"
  }
 },
 "nbformat": 4,
 "nbformat_minor": 2
}
